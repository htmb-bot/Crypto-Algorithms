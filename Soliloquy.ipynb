{
 "cells": [
  {
   "cell_type": "code",
   "execution_count": 37,
   "id": "6a9bec50",
   "metadata": {},
   "outputs": [
    {
     "name": "stdout",
     "output_type": "stream",
     "text": [
      "Working in prime Cyclotomic Number Field of conductor:  193\n"
     ]
    }
   ],
   "source": [
    "from sage.stats.distributions.discrete_gaussian_integer import DiscreteGaussianDistributionIntegerSampler\n",
    "\n",
    "#Step 1: Keygen\n",
    "#p is the public key, alpha is the secret key.\n",
    "\n",
    "n = random_prime(2^10)\n",
    "sigma = 1\n",
    "D = DiscreteGaussianDistributionIntegerSampler(sigma=sigma)\n",
    "print(\"Working in prime Cyclotomic Number Field of conductor: \", n)"
   ]
  },
  {
   "cell_type": "code",
   "execution_count": 38,
   "id": "022ce0cb",
   "metadata": {},
   "outputs": [
    {
     "name": "stdout",
     "output_type": "stream",
     "text": [
      "Alice's temporary private key is:\n",
      " -3*zeta^190 + zeta^189 - zeta^188 + zeta^187 - zeta^186 + zeta^185 + zeta^183 + zeta^182 - zeta^181 - 2*zeta^180 + zeta^177 - zeta^176 - zeta^175 - zeta^173 + 2*zeta^172 + 2*zeta^171 + zeta^170 - zeta^169 - 2*zeta^165 + zeta^164 + 2*zeta^163 + zeta^162 - zeta^160 - zeta^159 - 2*zeta^158 - zeta^157 - zeta^155 - zeta^153 + 2*zeta^151 + zeta^144 - 2*zeta^143 + zeta^142 - zeta^140 - zeta^139 - zeta^138 + zeta^135 - 2*zeta^134 - zeta^133 + 2*zeta^132 + zeta^130 - 3*zeta^128 + zeta^123 - zeta^121 + zeta^120 - zeta^119 - zeta^118 - zeta^116 + 2*zeta^115 - zeta^114 - zeta^113 - 2*zeta^112 - 2*zeta^111 - zeta^110 + 2*zeta^109 + zeta^107 - zeta^102 + zeta^101 + zeta^99 + zeta^96 + 2*zeta^94 - zeta^93 - zeta^91 - 2*zeta^89 + zeta^88 + zeta^86 - zeta^85 - zeta^84 - zeta^83 + zeta^81 - zeta^80 - 2*zeta^78 - zeta^77 - zeta^75 - zeta^73 - zeta^71 + zeta^70 - zeta^68 - zeta^64 + zeta^63 - zeta^61 + zeta^60 - zeta^59 + 2*zeta^55 - zeta^53 + 2*zeta^50 + zeta^48 - zeta^46 + zeta^45 - 2*zeta^44 - zeta^43 + zeta^41 - zeta^40 - zeta^39 + zeta^38 - zeta^37 - zeta^33 - zeta^32 - zeta^31 + zeta^29 + zeta^27 - zeta^26 - zeta^25 - zeta^24 - zeta^22 + zeta^21 - 2*zeta^20 - 2*zeta^19 - zeta^16 - zeta^12 - 2*zeta^10 - zeta^9 - zeta^8 - zeta^6 - zeta^5 + zeta^3 - zeta^2\n",
      "\n",
      "Alice's public key is:\n",
      " 1034145560602559093124607093082798380304201935669035617963425923587232993540462492537819521678172658151922280179846157583892938100139895250240717200487467595667317078602695949843263943583077262389251\n"
     ]
    }
   ],
   "source": [
    "K.<zeta> = CyclotomicField(n)\n",
    "\n",
    "alpha = 0\n",
    "p = 0\n",
    "\n",
    "while(not p.is_prime()):\n",
    "    alpha = 0\n",
    "    for i in range(n-1):\n",
    "        alpha += D()*zeta^i\n",
    "    p = Integer(alpha.norm())\n",
    "\n",
    "print(\"Alice's temporary private key is:\\n\", alpha)\n",
    "print(\"\\nAlice's public key is:\\n\", p)"
   ]
  },
  {
   "cell_type": "code",
   "execution_count": 39,
   "id": "06ef1100",
   "metadata": {},
   "outputs": [
    {
     "name": "stdout",
     "output_type": "stream",
     "text": [
      "Alice's final private key is\n",
      " 3*zeta^191 + zeta^189 + zeta^188 + zeta^187 + zeta^185 + zeta^183 + zeta^182 + 2*zeta^181 + 3*zeta^180 + 2*zeta^178 + zeta^177 - zeta^174 + 2*zeta^171 + 2*zeta^170 + 2*zeta^169 + 2*zeta^166 + zeta^164 + 3*zeta^163 + 2*zeta^162 + zeta^161 - zeta^159 + zeta^158 - 2*zeta^157 + zeta^155 - zeta^154 + zeta^153 + 2*zeta^152 + 2*zeta^149 + 2*zeta^147 + zeta^146 + zeta^145 + zeta^144 + zeta^143 + zeta^142 + 2*zeta^141 + zeta^140 + zeta^139 + zeta^137 + zeta^136 + 2*zeta^135 + zeta^134 + zeta^133 + zeta^132 + zeta^129 + 2*zeta^128 + zeta^127 + zeta^126 + zeta^125 + zeta^123 + 2*zeta^122 + 2*zeta^121 + 2*zeta^120 + 3*zeta^117 - zeta^115 + 2*zeta^114 + 2*zeta^113 + zeta^112 + 2*zeta^111 + zeta^110 + 2*zeta^109 + 2*zeta^107 + zeta^106 + zeta^103 + zeta^102 + 2*zeta^101 + zeta^99 + 3*zeta^96 - zeta^95 + zeta^93 + 2*zeta^91 + zeta^90 + zeta^87 + zeta^86 + zeta^85 + zeta^84 + 2*zeta^83 + zeta^81 + 2*zeta^80 + zeta^79 + zeta^76 + 3*zeta^75 + zeta^73 + 2*zeta^72 - zeta^70 + zeta^67 + zeta^66 - zeta^65 + zeta^64 + 2*zeta^63 + 2*zeta^62 - zeta^61 - zeta^60 + zeta^59 + 3*zeta^58 + 2*zeta^56 + zeta^54 + zeta^52 + zeta^51 + 2*zeta^50 + zeta^49 + 3*zeta^48 + zeta^44 + zeta^42 - zeta^40 + 2*zeta^39 + zeta^38 + zeta^36 + zeta^35 + 3*zeta^34 - zeta^32 - 2*zeta^31 + zeta^29 + zeta^28 + zeta^27 + zeta^26 + zeta^25 + 3*zeta^24 + zeta^23 + 2*zeta^22 + zeta^21 + zeta^20 + zeta^19 + zeta^18 + zeta^17 + zeta^16 + zeta^15 + zeta^14 + 2*zeta^12 - zeta^11 + zeta^10 + zeta^9 + zeta^7 - zeta^2 + zeta + 1\n"
     ]
    }
   ],
   "source": [
    "F = Integers(p)\n",
    "\n",
    "temp = F(2)\n",
    "c = temp**((p-1)/n)\n",
    "if(c == 1):\n",
    "    print(\"WARNING: KEYGEN FAILED... ABORT!\")\n",
    "\n",
    "I1 = K.ideal(p)\n",
    "I2 = K.ideal(zeta-Integer(c))\n",
    "I = I1+I2\n",
    "\n",
    "G = K.galois_group()\n",
    "galois_twist = 0\n",
    "\n",
    "for g in G:\n",
    "    a = K.ideal(alpha)\n",
    "    if(g(a) == I):\n",
    "        galois_twist = g\n",
    "        break\n",
    "alpha = galois_twist(alpha)\n",
    "\n",
    "assert(K.ideal(alpha) == I)\n",
    "print(\"Alice's final private key is\\n\", alpha)"
   ]
  },
  {
   "cell_type": "code",
   "execution_count": 53,
   "id": "8f745fa7",
   "metadata": {},
   "outputs": [
    {
     "name": "stdout",
     "output_type": "stream",
     "text": [
      "Bob generates secret key to be shared, using Alice's public key:\n",
      " -zeta^191 - zeta^190 - zeta^189 + zeta^181 + zeta^177 + zeta^171 - zeta^167 + zeta^166 + zeta^164 - zeta^160 - zeta^156 - zeta^154 + zeta^151 + zeta^147 + zeta^145 + zeta^143 - zeta^142 + zeta^140 + zeta^138 - zeta^131 + zeta^129 + zeta^127 - zeta^124 - zeta^117 - zeta^116 + zeta^115 + zeta^114 - zeta^113 - 2*zeta^103 - zeta^98 - zeta^94 + zeta^90 - zeta^87 + zeta^84 - 2*zeta^83 + zeta^82 + zeta^75 - zeta^68 + zeta^66 - zeta^63 - zeta^62 + zeta^58 - zeta^55 - zeta^43 - zeta^40 - zeta^37 - zeta^36 - zeta^32 + zeta^31 + zeta^30 + zeta^29 + zeta^22 + zeta^21 - zeta^20 + zeta^17 + zeta^13 - zeta^10 + zeta^2 + zeta\n"
     ]
    }
   ],
   "source": [
    "#Step 2: Key encapsulation: Bob's encryption of a random secret key\n",
    "\n",
    "sigmaprime = 0.6\n",
    "D2 = DiscreteGaussianDistributionIntegerSampler(sigma=sigmaprime)\n",
    "\n",
    "epsilon = 0\n",
    "eps_coeffs = []\n",
    "\n",
    "for i in range(n-1):\n",
    "    eps_coeff = D2()\n",
    "    eps_coeffs.append(eps_coeff)\n",
    "    epsilon += eps_coeff*zeta^i\n",
    "\n",
    "print(\"Bob generates secret key to be shared, using Alice's public key:\\n\", epsilon)"
   ]
  },
  {
   "cell_type": "code",
   "execution_count": 54,
   "id": "cc325a68",
   "metadata": {},
   "outputs": [
    {
     "name": "stdout",
     "output_type": "stream",
     "text": [
      "Bob sends the encrypted secret key to Alice:\n",
      " 326236476992847076636921686065689685235811158046464591260149415225122704096506974962429440276397991686103569426270782480369331052282265409970328011945715995365790228530676532791956521965078446887083\n"
     ]
    }
   ],
   "source": [
    "z = F(0)\n",
    "for i in range(n-1):\n",
    "        z += F(eps_coeffs[i])*c^i\n",
    "\n",
    "z = Integer(z)\n",
    "print(\"Bob sends the encrypted secret key to Alice:\\n\", z)"
   ]
  },
  {
   "cell_type": "code",
   "execution_count": 55,
   "id": "113d33d2",
   "metadata": {},
   "outputs": [
    {
     "name": "stdout",
     "output_type": "stream",
     "text": [
      "Alice recovers the secret key; it is now shared:\n",
      " -zeta^191 - zeta^190 - zeta^189 + zeta^181 + zeta^177 + zeta^171 - zeta^167 + zeta^166 + zeta^164 - zeta^160 - zeta^156 - zeta^154 + zeta^151 + zeta^147 + zeta^145 + zeta^143 - zeta^142 + zeta^140 + zeta^138 - zeta^131 + zeta^129 + zeta^127 - zeta^124 - zeta^117 - zeta^116 + zeta^115 + zeta^114 - zeta^113 - 2*zeta^103 - zeta^98 - zeta^94 + zeta^90 - zeta^87 + zeta^84 - 2*zeta^83 + zeta^82 + zeta^75 - zeta^68 + zeta^66 - zeta^63 - zeta^62 + zeta^58 - zeta^55 - zeta^43 - zeta^40 - zeta^37 - zeta^36 - zeta^32 + zeta^31 + zeta^30 + zeta^29 + zeta^22 + zeta^21 - zeta^20 + zeta^17 + zeta^13 - zeta^10 + zeta^2 + zeta\n",
      "IT WORKED!\n"
     ]
    }
   ],
   "source": [
    "#Step 3: Decryption: Alice recovers the secret key z using her private key alpha\n",
    "\n",
    "epsilon_dec = K(0)\n",
    "\n",
    "product = z*alpha^(-1)\n",
    "\n",
    "for i in range(n-1):\n",
    "    epsilon_dec += (product[i].round())*zeta^i\n",
    "\n",
    "epsilon_dec = z - epsilon_dec*alpha\n",
    "\n",
    "print(\"Alice recovers the secret key; it is now shared:\\n\", epsilon_dec)\n",
    "if(epsilon_dec == epsilon):\n",
    "    print(\"IT WORKED!\")\n",
    "else:\n",
    "    print(\"RECOVERY FAILED\")"
   ]
  }
 ],
 "metadata": {
  "kernelspec": {
   "display_name": "SageMath 9.5",
   "language": "sage",
   "name": "sagemath"
  },
  "language_info": {
   "codemirror_mode": {
    "name": "ipython",
    "version": 3
   },
   "file_extension": ".py",
   "mimetype": "text/x-python",
   "name": "python",
   "nbconvert_exporter": "python",
   "pygments_lexer": "ipython3",
   "version": "3.10.8"
  }
 },
 "nbformat": 4,
 "nbformat_minor": 5
}
